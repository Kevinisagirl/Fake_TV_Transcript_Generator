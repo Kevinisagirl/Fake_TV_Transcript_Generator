{
 "cells": [
  {
   "cell_type": "markdown",
   "metadata": {},
   "source": [
    "## Refactor and Optimize Cleaner"
   ]
  },
  {
   "cell_type": "code",
   "execution_count": 48,
   "metadata": {},
   "outputs": [],
   "source": [
    "#Needed to see model progress\n",
    "import logging\n",
    "import warnings\n",
    "logging.basicConfig(format='%(asctime)s : %(levelname)s : %(message)s', level=logging.INFO)\n",
    "warnings.filterwarnings(action='ignore', category=UserWarning, module='gensim')\n",
    "\n",
    "import Import_SBIR as importer\n",
    "import Clean_SBIR as cleaner\n",
    "import Vectorize_SBIR as vectorizer\n",
    "import Models_SBIR as models\n",
    "\n",
    "import importlib\n",
    "importlib.reload(importer)\n",
    "importlib.reload(cleaner)\n",
    "importlib.reload(vectorizer)\n",
    "importlib.reload(models)\n",
    "\n",
    "import re\n",
    "import time\n",
    "import pandas as pd \n",
    "from collections import defaultdict\n",
    "\n",
    "from gensim import corpora\n",
    "from gensim.corpora import Dictionary\n",
    "from gensim.corpora.dictionary import Dictionary\n",
    "\n",
    "import pickle as pickle\n",
    "\n",
    "pd.options.display.max_rows=160\n",
    "pd.options.display.max_colwidth=160\n",
    "\n",
    "train_file = '../data/SBIR-All-Depts-00000.json'"
   ]
  },
  {
   "cell_type": "code",
   "execution_count": 44,
   "metadata": {},
   "outputs": [],
   "source": [
    "sbir_data = importer.import_sbir(train_file)\n",
    "target_data, training_data, test_data = importer.split_target_training_test_df(sbir_data)"
   ]
  },
  {
   "cell_type": "code",
   "execution_count": 45,
   "metadata": {},
   "outputs": [
    {
     "name": "stdout",
     "output_type": "stream",
     "text": [
      "Time taken: 13.655019044876099 seconds.\n"
     ]
    }
   ],
   "source": [
    "start = time.time()\n",
    "\n",
    "holder = training_data.copy(deep=True)\n",
    "holder, time_slice = cleaner.clean_sbir(holder)\n",
    "delt = time.time() - start\n",
    "\n",
    "print(\"Time taken: \" + str(delt) + \" seconds.\")\n",
    "time_slice = time_slice.tolist()"
   ]
  },
  {
   "cell_type": "code",
   "execution_count": 58,
   "metadata": {},
   "outputs": [
    {
     "ename": "TypeError",
     "evalue": "'module' object is not callable",
     "output_type": "error",
     "traceback": [
      "\u001b[1;31m---------------------------------------------------------------------------\u001b[0m",
      "\u001b[1;31mTypeError\u001b[0m                                 Traceback (most recent call last)",
      "\u001b[1;32m<ipython-input-58-ca6d86ebde0e>\u001b[0m in \u001b[0;36m<module>\u001b[1;34m()\u001b[0m\n\u001b[1;32m----> 1\u001b[1;33m \u001b[0mpprint\u001b[0m\u001b[1;33m(\u001b[0m\u001b[1;34m\"Original:\\n-----------\\n\"\u001b[0m\u001b[1;33m,\u001b[0m\u001b[0mholder\u001b[0m\u001b[1;33m[\u001b[0m\u001b[1;34m'original_abstract'\u001b[0m\u001b[1;33m]\u001b[0m\u001b[1;33m.\u001b[0m\u001b[0mhead\u001b[0m\u001b[1;33m(\u001b[0m\u001b[1;36m5\u001b[0m\u001b[1;33m)\u001b[0m\u001b[1;33m)\u001b[0m\u001b[1;33m\u001b[0m\u001b[0m\n\u001b[0m\u001b[0;32m      2\u001b[0m \u001b[0mpprint\u001b[0m\u001b[1;33m(\u001b[0m\u001b[1;34m\"Cleaned:\\n-----------\\n\"\u001b[0m\u001b[1;33m,\u001b[0m\u001b[0mholder\u001b[0m\u001b[1;33m[\u001b[0m\u001b[1;34m'content'\u001b[0m\u001b[1;33m]\u001b[0m\u001b[1;33m.\u001b[0m\u001b[0mhead\u001b[0m\u001b[1;33m(\u001b[0m\u001b[1;36m5\u001b[0m\u001b[1;33m)\u001b[0m\u001b[1;33m,\u001b[0m\u001b[1;34m'\\n\\n'\u001b[0m\u001b[1;33m)\u001b[0m\u001b[1;33m\u001b[0m\u001b[0m\n",
      "\u001b[1;31mTypeError\u001b[0m: 'module' object is not callable"
     ]
    }
   ],
   "source": [
    "pprint(\"Original:\\n-----------\\n\",holder['original_abstract'].head(5))\n",
    "pprint(\"Cleaned:\\n-----------\\n\",holder['content'].head(5),'\\n\\n')"
   ]
  },
  {
   "cell_type": "code",
   "execution_count": 52,
   "metadata": {},
   "outputs": [
    {
     "name": "stdout",
     "output_type": "stream",
     "text": [
      "Number of valid dates:  6110\n",
      "Number of total records:  6110\n"
     ]
    }
   ],
   "source": [
    "#Make sure all the NaNs are dropped before being passed into the model\n",
    "print(\"Number of valid dates: \", sum(time_slice))\n",
    "print(\"Number of total records: \", holder.sbir_award_year.count())"
   ]
  }
 ],
 "metadata": {
  "kernelspec": {
   "display_name": "Python 3",
   "language": "python",
   "name": "python3"
  },
  "language_info": {
   "codemirror_mode": {
    "name": "ipython",
    "version": 3
   },
   "file_extension": ".py",
   "mimetype": "text/x-python",
   "name": "python",
   "nbconvert_exporter": "python",
   "pygments_lexer": "ipython3",
   "version": "3.7.0"
  }
 },
 "nbformat": 4,
 "nbformat_minor": 2
}
